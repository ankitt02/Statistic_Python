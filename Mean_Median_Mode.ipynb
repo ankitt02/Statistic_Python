{
 "cells": [
  {
   "cell_type": "code",
   "execution_count": 5,
   "id": "e80bf114",
   "metadata": {},
   "outputs": [
    {
     "name": "stdout",
     "output_type": "stream",
     "text": [
      "Mean: 15.41\n",
      "Median: 13.12\n",
      "Mode: 11.20\n",
      "Variance: 91.79\n",
      "Standard Deviation: 9.58\n"
     ]
    }
   ],
   "source": [
    "import pandas as pd\n",
    "import numpy as np\n",
    "import matplotlib.pyplot as plt\n",
    "\n",
    "# Read the CSV file\n",
    "df = pd.read_csv(\"C:\\\\Users\\\\ankit\\\\Downloads\\\\branch-wise-oper-perf-2021-22.csv\")\n",
    "\n",
    "# Extract the 'SANCTIONS Rs in crore' column\n",
    "sanctions = df['SANCTIONS Rs in crore']\n",
    "\n",
    "# Calculate mean\n",
    "mean = np.mean(sanctions)\n",
    "print(f\"Mean: {mean:.2f}\")\n",
    "\n",
    "# Calculate median\n",
    "median = np.median(sanctions)\n",
    "print(f\"Median: {median:.2f}\")\n",
    "\n",
    "# Calculate mode\n",
    "mode = sanctions.mode().values[0]\n",
    "print(f\"Mode: {mode:.2f}\")\n",
    "\n",
    "# Calculate variance\n",
    "variance = np.var(sanctions)\n",
    "print(f\"Variance: {variance:.2f}\")\n",
    "\n",
    "# Calculate standard deviation\n",
    "std_dev = np.std(sanctions)\n",
    "print(f\"Standard Deviation: {std_dev:.2f}\")"
   ]
  },
  {
   "cell_type": "code",
   "execution_count": null,
   "id": "3690f00f",
   "metadata": {},
   "outputs": [],
   "source": []
  },
  {
   "cell_type": "code",
   "execution_count": null,
   "id": "7551aab2",
   "metadata": {},
   "outputs": [],
   "source": []
  }
 ],
 "metadata": {
  "kernelspec": {
   "display_name": "Python 3 (ipykernel)",
   "language": "python",
   "name": "python3"
  },
  "language_info": {
   "codemirror_mode": {
    "name": "ipython",
    "version": 3
   },
   "file_extension": ".py",
   "mimetype": "text/x-python",
   "name": "python",
   "nbconvert_exporter": "python",
   "pygments_lexer": "ipython3",
   "version": "3.11.5"
  }
 },
 "nbformat": 4,
 "nbformat_minor": 5
}

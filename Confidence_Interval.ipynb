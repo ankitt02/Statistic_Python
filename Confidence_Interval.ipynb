{
 "cells": [
  {
   "cell_type": "code",
   "execution_count": 1,
   "id": "960141f6",
   "metadata": {},
   "outputs": [
    {
     "name": "stdout",
     "output_type": "stream",
     "text": [
      "Sample Mean: 15.41\n",
      "95% Confidence Interval: (11.90, 18.92)\n"
     ]
    }
   ],
   "source": [
    "import pandas as pd\n",
    "import numpy as np\n",
    "from scipy import stats\n",
    "\n",
    "# Read the CSV file\n",
    "df = pd.read_csv(\"C:\\\\Users\\\\ankit\\\\Downloads\\\\branch-wise-oper-perf-2021-22.csv\")\n",
    "\n",
    "# Extract the 'SANCTIONS Rs in crore' column\n",
    "sanctions = df['SANCTIONS Rs in crore']\n",
    "\n",
    "# Calculate the mean and standard error\n",
    "sample_mean = np.mean(sanctions)\n",
    "sample_std = np.std(sanctions, ddof=1)  # ddof=1 for sample standard deviation\n",
    "sample_size = len(sanctions)\n",
    "standard_error = sample_std / np.sqrt(sample_size)\n",
    "\n",
    "# Calculate the confidence interval\n",
    "confidence_level = 0.95\n",
    "degrees_of_freedom = sample_size - 1\n",
    "t_value = stats.t.ppf((1 + confidence_level) / 2, degrees_of_freedom)\n",
    "\n",
    "margin_of_error = t_value * standard_error\n",
    "confidence_interval = (sample_mean - margin_of_error, sample_mean + margin_of_error)\n",
    "\n",
    "print(f\"Sample Mean: {sample_mean:.2f}\")\n",
    "print(f\"95% Confidence Interval: ({confidence_interval[0]:.2f}, {confidence_interval[1]:.2f})\")"
   ]
  },
  {
   "cell_type": "code",
   "execution_count": null,
   "id": "278504b2",
   "metadata": {},
   "outputs": [],
   "source": []
  }
 ],
 "metadata": {
  "kernelspec": {
   "display_name": "Python 3 (ipykernel)",
   "language": "python",
   "name": "python3"
  },
  "language_info": {
   "codemirror_mode": {
    "name": "ipython",
    "version": 3
   },
   "file_extension": ".py",
   "mimetype": "text/x-python",
   "name": "python",
   "nbconvert_exporter": "python",
   "pygments_lexer": "ipython3",
   "version": "3.11.5"
  }
 },
 "nbformat": 4,
 "nbformat_minor": 5
}

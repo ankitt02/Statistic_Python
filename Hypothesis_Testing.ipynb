{
 "cells": [
  {
   "cell_type": "code",
   "execution_count": 1,
   "id": "88eeaa0b",
   "metadata": {},
   "outputs": [
    {
     "name": "stdout",
     "output_type": "stream",
     "text": [
      "Null Hypothesis (H0): There is no significant difference in mean sanctions between the two groups of offices.\n",
      "Alternative Hypothesis (H1): There is a significant difference in mean sanctions between the two groups of offices.\n",
      "\n",
      "t-statistic: -5.429001550540439\n",
      "p-value: 6.937424597035295e-06\n",
      "\n",
      "Reject the null hypothesis.\n",
      "There is a significant difference in mean sanctions between the two groups of offices.\n"
     ]
    }
   ],
   "source": [
    "import pandas as pd\n",
    "import numpy as np\n",
    "from scipy import stats\n",
    "\n",
    "# Read the CSV file\n",
    "df = pd.read_csv(\"C:\\\\Users\\\\ankit\\\\Downloads\\\\branch-wise-oper-perf-2021-22.csv\")\n",
    "\n",
    "# Calculate the median sanction amount\n",
    "median_sanction = df['SANCTIONS Rs in crore'].median()\n",
    "\n",
    "# Split the offices into two groups\n",
    "group1 = df[df['SANCTIONS Rs in crore'] <= median_sanction]['SANCTIONS Rs in crore']\n",
    "group2 = df[df['SANCTIONS Rs in crore'] > median_sanction]['SANCTIONS Rs in crore']\n",
    "\n",
    "# State the null and alternative hypotheses\n",
    "print(\"Null Hypothesis (H0): There is no significant difference in mean sanctions between the two groups of offices.\")\n",
    "print(\"Alternative Hypothesis (H1): There is a significant difference in mean sanctions between the two groups of offices.\")\n",
    "\n",
    "# Perform independent t-test\n",
    "t_statistic, p_value = stats.ttest_ind(group1, group2)\n",
    "\n",
    "# Print results\n",
    "print(f\"\\nt-statistic: {t_statistic}\")\n",
    "print(f\"p-value: {p_value}\")\n",
    "\n",
    "# Interpret results\n",
    "alpha = 0.05\n",
    "if p_value < alpha:\n",
    "    print(\"\\nReject the null hypothesis.\")\n",
    "    print(\"There is a significant difference in mean sanctions between the two groups of offices.\")\n",
    "else:\n",
    "    print(\"\\nFail to reject the null hypothesis.\")\n",
    "    print(\"There is not enough evidence to conclude a significant difference in mean sanctions between the two groups of offices.\")"
   ]
  },
  {
   "cell_type": "code",
   "execution_count": null,
   "id": "41068d54",
   "metadata": {},
   "outputs": [],
   "source": []
  }
 ],
 "metadata": {
  "kernelspec": {
   "display_name": "Python 3 (ipykernel)",
   "language": "python",
   "name": "python3"
  },
  "language_info": {
   "codemirror_mode": {
    "name": "ipython",
    "version": 3
   },
   "file_extension": ".py",
   "mimetype": "text/x-python",
   "name": "python",
   "nbconvert_exporter": "python",
   "pygments_lexer": "ipython3",
   "version": "3.11.5"
  }
 },
 "nbformat": 4,
 "nbformat_minor": 5
}
